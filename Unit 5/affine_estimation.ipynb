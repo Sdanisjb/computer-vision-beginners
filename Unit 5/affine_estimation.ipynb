{
 "cells": [
  {
   "cell_type": "code",
   "execution_count": 2,
   "metadata": {},
   "outputs": [],
   "source": [
    "import numpy as np\n",
    "import matplotlib.pyplot as plt\n",
    "import matplotlib as mpl\n",
    "import cv2"
   ]
  },
  {
   "cell_type": "code",
   "execution_count": 3,
   "metadata": {},
   "outputs": [],
   "source": [
    "grayImage = r'D:\\Cursos Online\\Computer_Vision_in_python\\practice\\Unit 5\\albert-einstein_gray.jpg'\n",
    "affineWarped = r'D:\\Cursos Online\\Computer_Vision_in_python\\practice\\Unit 5\\affine-transformed image.jpg'"
   ]
  },
  {
   "cell_type": "code",
   "execution_count": 4,
   "metadata": {},
   "outputs": [],
   "source": [
    "I_gray = cv2.imread(grayImage, cv2.IMREAD_GRAYSCALE)\n",
    "I_affinedWarp = cv2.imread(affineWarped, cv2.IMREAD_GRAYSCALE)"
   ]
  },
  {
   "cell_type": "code",
   "execution_count": 5,
   "metadata": {},
   "outputs": [],
   "source": [
    "def f_getPoints(I, numPts):\n",
    "    %matplotlib\n",
    "    fig, ax = plt.subplots(1, figsize=(15,30))\n",
    "    plt.imshow(I, cmap='gray')\n",
    "    pts = np.round(np.array(plt.ginput(n=numPts)))\n",
    "    pts = pts[:, [1,0]].T\n",
    "    plt.close()\n",
    "    return pts"
   ]
  },
  {
   "cell_type": "code",
   "execution_count": 22,
   "metadata": {},
   "outputs": [
    {
     "name": "stdout",
     "output_type": "stream",
     "text": [
      "Using matplotlib backend: TkAgg\n"
     ]
    }
   ],
   "source": [
    "# Compute P set of points\n",
    "P = f_getPoints(I_gray, 3)"
   ]
  },
  {
   "cell_type": "code",
   "execution_count": 23,
   "metadata": {},
   "outputs": [
    {
     "data": {
      "text/plain": [
       "array([[397., 401., 484.],\n",
       "       [325., 496., 441.]])"
      ]
     },
     "execution_count": 23,
     "metadata": {},
     "output_type": "execute_result"
    }
   ],
   "source": [
    "P"
   ]
  },
  {
   "cell_type": "code",
   "execution_count": 24,
   "metadata": {},
   "outputs": [
    {
     "name": "stdout",
     "output_type": "stream",
     "text": [
      "Using matplotlib backend: TkAgg\n"
     ]
    }
   ],
   "source": [
    "P_dash = f_getPoints(I_affinedWarp, 3)"
   ]
  },
  {
   "cell_type": "code",
   "execution_count": 25,
   "metadata": {},
   "outputs": [
    {
     "data": {
      "text/plain": [
       "array([[406., 397., 478.],\n",
       "       [320., 429., 418.]])"
      ]
     },
     "execution_count": 25,
     "metadata": {},
     "output_type": "execute_result"
    }
   ],
   "source": [
    "P_dash"
   ]
  },
  {
   "cell_type": "code",
   "execution_count": 26,
   "metadata": {},
   "outputs": [
    {
     "data": {
      "text/plain": [
       "array([[397., 401., 484.],\n",
       "       [325., 496., 441.],\n",
       "       [  1.,   1.,   1.]])"
      ]
     },
     "execution_count": 26,
     "metadata": {},
     "output_type": "execute_result"
    }
   ],
   "source": [
    "P = np.vstack((P, np.ones((1,3))))\n",
    "P"
   ]
  },
  {
   "cell_type": "code",
   "execution_count": 27,
   "metadata": {},
   "outputs": [
    {
     "data": {
      "text/plain": [
       "array([[406., 397., 478.],\n",
       "       [320., 429., 418.],\n",
       "       [  1.,   1.,   1.]])"
      ]
     },
     "execution_count": 27,
     "metadata": {},
     "output_type": "execute_result"
    }
   ],
   "source": [
    "P_dash = np.vstack((P_dash, np.ones((1,3))))\n",
    "P_dash"
   ]
  },
  {
   "cell_type": "code",
   "execution_count": 28,
   "metadata": {},
   "outputs": [
    {
     "data": {
      "text/plain": [
       "-14412.999999999998"
      ]
     },
     "execution_count": 28,
     "metadata": {},
     "output_type": "execute_result"
    }
   ],
   "source": [
    "np.linalg.det(P)"
   ]
  },
  {
   "cell_type": "code",
   "execution_count": 29,
   "metadata": {},
   "outputs": [
    {
     "data": {
      "text/plain": [
       "array([[ 9.26663429e-01, -7.43079165e-02,  6.22646916e+01],\n",
       "       [ 2.85436758e-01,  6.30750017e-01,  1.68785125e+00],\n",
       "       [ 1.73472348e-18, -1.40946282e-18,  1.00000000e+00]])"
      ]
     },
     "execution_count": 29,
     "metadata": {},
     "output_type": "execute_result"
    }
   ],
   "source": [
    "A = P_dash.dot(np.linalg.inv(P))\n",
    "A"
   ]
  },
  {
   "cell_type": "code",
   "execution_count": 30,
   "metadata": {},
   "outputs": [],
   "source": [
    "def displayImageInActualSize(I):\n",
    "    dpi = mpl.rcParams['figure.dpi']\n",
    "    H,W = I.shape\n",
    "    fig_size = W/float(dpi), H/float(dpi)\n",
    "    fig = plt.figure(figsize=fig_size)\n",
    "    ax = fig.add_axes([0,0,1,1])\n",
    "    ax.axis('off')\n",
    "    ax.imshow(I,cmap='gray')\n",
    "    plt.show\n",
    "\n",
    "def bilinearInterpolation(r, c, I):\n",
    "   \n",
    "    # Column indexes\n",
    "    lc = int(c) # left column\n",
    "    rc = lc+1   # right column\n",
    "\n",
    "    # Row indexes\n",
    "    tr = int(r) # top row\n",
    "    br = tr + 1 # bottom row\n",
    "\n",
    "    # Weights of horizontal linear indexes\n",
    "    wr = c - lc\n",
    "    wl = rc - c\n",
    "\n",
    "    # Weights of vertical linear indexes\n",
    "    wt = br - r\n",
    "    wb = r - tr\n",
    "\n",
    "    if tr >= 0 and br < I.shape[0] and lc >= 0 and rc < I.shape[1]:  \n",
    "        # Intensity alpha (top row linear)\n",
    "        a = I[tr, lc] * wl + I[tr, rc] * wr\n",
    "        # Intensity betha (bottom row linear)\n",
    "        b = I[br, lc] * wl + I[br, rc] * wr\n",
    "\n",
    "        # Final intensity (vertical linear)\n",
    "        f = a * wt + b * wb\n",
    "\n",
    "        return np.uint8(f)\n",
    "    else:\n",
    "        return 0\n",
    "def getExtentsProjective(T, rMax, cMax):\n",
    "    cords = np.array([[0,0,1], [0, cMax-1, 1], [rMax, 0, 1], [rMax, cMax, 1]])\n",
    "    A_dash = T.dot(cords.T)\n",
    "    A_dash = A_dash/A_dash[2,:]\n",
    "\n",
    "    mins = A_dash.min(axis=1)\n",
    "    maxs = A_dash.max(axis=1)\n",
    "\n",
    "    minR = np.int64(np.floor(mins[0]))\n",
    "    minC = np.int64(np.floor(mins[1]))\n",
    "    maxR = np.int64(np.ceil(maxs[0]))\n",
    "    maxC = np.int64(np.ceil(maxs[1]))\n",
    "\n",
    "    # Define height and width\n",
    "    H, W = maxR - minR + 1, maxC - minC + 1\n",
    "    \n",
    "    return minR, minC, maxR, maxC, H, W\n",
    "\n",
    "def transformProjective(T, I_gray):\n",
    "    Tinv = np.linalg.inv(T)\n",
    "\n",
    "    numRows = I_gray.shape[0]\n",
    "    numCols = I_gray.shape[1]\n",
    "\n",
    "    minR, minC, maxR, maxC, H, W = getExtentsProjective(T, I_gray.shape[0], I_gray.shape[1])\n",
    "\n",
    "    I2 = np.zeros((H,W), dtype='uint8')\n",
    "\n",
    "    for new_i in range(minR, maxR):\n",
    "        for new_j in range(minC, maxC):\n",
    "            P_dash = np.array([new_i,new_j, 1])\n",
    "            P = Tinv.dot(P_dash)\n",
    "            P = P/P[2]\n",
    "            # Bilinear interpolation\n",
    "            P = np.int16(np.round(P))\n",
    "            i, j = P[0], P[1]\n",
    "            if i < 0 or i >= numRows or j < 0 or j >= numCols:\n",
    "                pass\n",
    "            else:\n",
    "                g = bilinearInterpolation(i,j,I_gray)\n",
    "                I2[new_i - minR, new_j - minC] = g\n",
    "    return I2\n"
   ]
  },
  {
   "cell_type": "code",
   "execution_count": 31,
   "metadata": {},
   "outputs": [],
   "source": [
    "I2 = transformProjective(A, I_gray)"
   ]
  },
  {
   "cell_type": "code",
   "execution_count": 32,
   "metadata": {},
   "outputs": [
    {
     "data": {
      "text/plain": [
       "<matplotlib.image.AxesImage at 0x170bdf82a70>"
      ]
     },
     "execution_count": 32,
     "metadata": {},
     "output_type": "execute_result"
    }
   ],
   "source": [
    "plt.imshow(I2, cmap='gray')"
   ]
  },
  {
   "cell_type": "markdown",
   "metadata": {},
   "source": [
    "# Affine Transformation Estimation with many points"
   ]
  },
  {
   "cell_type": "code",
   "execution_count": 33,
   "metadata": {},
   "outputs": [
    {
     "name": "stdout",
     "output_type": "stream",
     "text": [
      "Using matplotlib backend: TkAgg\n"
     ]
    },
    {
     "data": {
      "text/plain": [
       "array([[397., 399., 484., 564., 564.],\n",
       "       [321., 498., 439., 475., 349.]])"
      ]
     },
     "execution_count": 33,
     "metadata": {},
     "output_type": "execute_result"
    }
   ],
   "source": [
    "# Compute P set of points\n",
    "P = f_getPoints(I_gray, 5)\n",
    "P"
   ]
  },
  {
   "cell_type": "code",
   "execution_count": 35,
   "metadata": {},
   "outputs": [
    {
     "name": "stdout",
     "output_type": "stream",
     "text": [
      "Using matplotlib backend: TkAgg\n"
     ]
    },
    {
     "data": {
      "text/plain": [
       "array([[408., 395., 483., 549., 565.],\n",
       "       [315., 429., 416., 462., 386.]])"
      ]
     },
     "execution_count": 35,
     "metadata": {},
     "output_type": "execute_result"
    }
   ],
   "source": [
    "P_dash = f_getPoints(I_affinedWarp, 5)\n",
    "P_dash"
   ]
  },
  {
   "cell_type": "code",
   "execution_count": 37,
   "metadata": {},
   "outputs": [
    {
     "data": {
      "text/plain": [
       "array([[397., 399., 484., 564., 564.],\n",
       "       [321., 498., 439., 475., 349.],\n",
       "       [  1.,   1.,   1.,   1.,   1.]])"
      ]
     },
     "execution_count": 37,
     "metadata": {},
     "output_type": "execute_result"
    }
   ],
   "source": [
    "P = np.vstack((P, np.ones((1,5))))\n",
    "P"
   ]
  },
  {
   "cell_type": "code",
   "execution_count": 38,
   "metadata": {},
   "outputs": [
    {
     "data": {
      "text/plain": [
       "array([[408., 395., 483., 549., 565.],\n",
       "       [315., 429., 416., 462., 386.],\n",
       "       [  1.,   1.,   1.,   1.,   1.]])"
      ]
     },
     "execution_count": 38,
     "metadata": {},
     "output_type": "execute_result"
    }
   ],
   "source": [
    "P_dash = np.vstack((P_dash, np.ones((1,5))))\n",
    "P_dash"
   ]
  },
  {
   "cell_type": "code",
   "execution_count": 39,
   "metadata": {},
   "outputs": [
    {
     "data": {
      "text/plain": [
       "array([[ 9.38563923e-01, -9.50321883e-02,  6.75590181e+01],\n",
       "       [ 3.03833244e-01,  6.27426294e-01, -5.98639885e+00],\n",
       "       [-1.73472348e-17,  0.00000000e+00,  1.00000000e+00]])"
      ]
     },
     "execution_count": 39,
     "metadata": {},
     "output_type": "execute_result"
    }
   ],
   "source": [
    "A = P_dash.dot(P.T).dot(np.linalg.inv(P.dot(P.T)))\n",
    "A"
   ]
  },
  {
   "cell_type": "code",
   "execution_count": 40,
   "metadata": {},
   "outputs": [],
   "source": [
    "I2 = transformProjective(A, I_gray)"
   ]
  },
  {
   "cell_type": "code",
   "execution_count": 44,
   "metadata": {},
   "outputs": [
    {
     "data": {
      "text/plain": [
       "<matplotlib.image.AxesImage at 0x170bd86b520>"
      ]
     },
     "execution_count": 44,
     "metadata": {},
     "output_type": "execute_result"
    },
    {
     "data": {
      "image/png": "[encoded data removed]",
      "text/plain": [
       "<Figure size 432x288 with 2 Axes>"
      ]
     },
     "metadata": {
      "needs_background": "light"
     },
     "output_type": "display_data"
    }
   ],
   "source": [
    "%matplotlib inline\n",
    "plt.figure(1)\n",
    "plt.subplot(121)\n",
    "plt.imshow(I2, cmap='gray')\n",
    "plt.subplot(122)\n",
    "plt.imshow(I_affinedWarp, cmap=\"gray\")"
   ]
  }
 ],
 "metadata": {
  "kernelspec": {
   "display_name": "Python 3",
   "language": "python",
   "name": "python3"
  },
  "language_info": {
   "codemirror_mode": {
    "name": "ipython",
    "version": 3
   },
   "file_extension": ".py",
   "mimetype": "text/x-python",
   "name": "python",
   "nbconvert_exporter": "python",
   "pygments_lexer": "ipython3",
   "version": "3.10.4"
  }
 },
 "nbformat": 4,
 "nbformat_minor": 2
}
