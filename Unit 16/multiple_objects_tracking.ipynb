{
 "cells": [
  {
   "cell_type": "code",
   "execution_count": 17,
   "metadata": {},
   "outputs": [],
   "source": [
    "import cv2\n",
    "import numpy as np"
   ]
  },
  {
   "cell_type": "code",
   "execution_count": 18,
   "metadata": {},
   "outputs": [],
   "source": [
    "TrDic = {\n",
    "    \"csrt\": cv2.legacy.TrackerCSRT_create,\n",
    "    \"kcf\": cv2.TrackerKCF_create,\n",
    "    \"boosting\": cv2.legacy.TrackerBoosting_create,\n",
    "    \"mil\": cv2.TrackerMIL_create,\n",
    "    \"tld\": cv2.legacy.TrackerTLD_create,\n",
    "    \"medianflow\": cv2.legacy.TrackerMedianFlow_create,\n",
    "    \"mosse\": cv2.legacy.TrackerMOSSE_create,\n",
    "}"
   ]
  },
  {
   "cell_type": "code",
   "execution_count": 19,
   "metadata": {},
   "outputs": [],
   "source": [
    "trackers = cv2.legacy.MultiTracker_create()"
   ]
  },
  {
   "cell_type": "code",
   "execution_count": 20,
   "metadata": {},
   "outputs": [],
   "source": [
    "v = cv2.VideoCapture(\n",
    "    r\"D:\\Cursos_Online\\computer-vision-beginners\\Unit 16\\mot.mp4\"\n",
    ")"
   ]
  },
  {
   "cell_type": "code",
   "execution_count": 21,
   "metadata": {},
   "outputs": [],
   "source": [
    "ret, frame = v.read()"
   ]
  },
  {
   "cell_type": "code",
   "execution_count": 22,
   "metadata": {},
   "outputs": [],
   "source": [
    "k = 3\n",
    "for i in range(k):\n",
    "    cv2.imshow('Frame', frame)\n",
    "    bbi = cv2.selectROI('Frame', frame)\n",
    "    tracker_i = TrDic['csrt']()\n",
    "    trackers.add(tracker_i,frame, bbi)"
   ]
  },
  {
   "cell_type": "code",
   "execution_count": 23,
   "metadata": {},
   "outputs": [],
   "source": [
    "frameNumber = 2\n",
    "baseDir = r\"D:\\Cursos_Online\\computer-vision-beginners\\Unit 16\\tracking_results\"\n",
    "while True:\n",
    "    ret, frame = v.read()\n",
    "    if not ret:\n",
    "        break\n",
    "    (success, boxes) = trackers.update(frame)\n",
    "    np.savetxt(baseDir + '/frame_'+str(frameNumber)+'.txt', boxes, fmt='%f')\n",
    "    frameNumber +=1\n",
    "    if success:\n",
    "        for box in boxes:\n",
    "            (x, y, w, h) = [int(a) for a in box]\n",
    "            cv2.rectangle(frame, (x, y), (x + w, y + h), (255, 0, 0), 2)\n",
    "    cv2.imshow(\"Frame\", frame)\n",
    "    key = cv2.waitKey(5) & 0xFF\n",
    "    if key == ord(\"q\"):\n",
    "        break\n",
    "\n",
    "v.release()\n",
    "cv2.destroyAllWindows()"
   ]
  }
 ],
 "metadata": {
  "kernelspec": {
   "display_name": "ocv-tf",
   "language": "python",
   "name": "python3"
  },
  "language_info": {
   "codemirror_mode": {
    "name": "ipython",
    "version": 3
   },
   "file_extension": ".py",
   "mimetype": "text/x-python",
   "name": "python",
   "nbconvert_exporter": "python",
   "pygments_lexer": "ipython3",
   "version": "3.12.4"
  }
 },
 "nbformat": 4,
 "nbformat_minor": 2
}
